{
 "cells": [
  {
   "cell_type": "markdown",
   "metadata": {
    "id": "p-rwaDb5DLHL"
   },
   "source": [
    "***\n",
    "<h1 style=\"background-color:lightgreen;font-family:newtimeroman;text-align:center;border-radius: 0px 50px\">\n",
    "    <font color=black size=7>\n",
    "        Análise - Campeonato Brasileiro\n",
    "    </font>\n",
    "</h1>\n",
    "\n",
    "<p>Observação: Em desenvolvimento</p>\n",
    "\n",
    "***"
   ]
  },
  {
   "cell_type": "markdown",
   "metadata": {
    "id": "rvxqIMoPELJK"
   },
   "source": [
    "## Bibliotecas"
   ]
  },
  {
   "cell_type": "code",
   "execution_count": 242,
   "metadata": {
    "id": "N-IYtFGx-2Uv"
   },
   "outputs": [],
   "source": [
    "import pandas as pd\n",
    "import numpy as np\n",
    "import matplotlib.pyplot as plt\n",
    "import seaborn as sns\n",
    "import warnings\n",
    "warnings.filterwarnings('ignore')"
   ]
  },
  {
   "cell_type": "markdown",
   "metadata": {
    "id": "aFJ9pj91EDCi"
   },
   "source": [
    "## Bases de Dados"
   ]
  },
  {
   "cell_type": "code",
   "execution_count": 243,
   "metadata": {
    "colab": {
     "base_uri": "https://localhost:8080/",
     "height": 1000
    },
    "id": "2FYLVf5Q-vk6",
    "outputId": "877e0af3-03aa-404e-cc99-76622f2b3202"
   },
   "outputs": [],
   "source": [
    "df = pd.read_csv(\"//Users/felipebarreto/Desktop/Projetos Pessoais/Brasileirão/campeonato-brasileiro-estatisticas-full.csv\", sep=\";\")\n",
    "times = pd.read_csv(\"//Users/felipebarreto/Desktop/Projetos Pessoais/Brasileirão/campeonato-brasileiro-full.csv\", sep=\";\")\n",
    "estados = pd.read_csv(\"//Users/felipebarreto/Desktop/Projetos Pessoais/Brasileirão/estados.csv\", sep=';', encoding='latin-1')\n",
    "estados.columns = ['estado','uf','regiao']"
   ]
  },
  {
   "cell_type": "code",
   "execution_count": 244,
   "metadata": {},
   "outputs": [
    {
     "name": "stdout",
     "output_type": "stream",
     "text": [
      "<class 'pandas.core.frame.DataFrame'>\n",
      "RangeIndex: 4806 entries, 0 to 4805\n",
      "Data columns (total 12 columns):\n",
      " #   Column             Non-Null Count  Dtype  \n",
      "---  ------             --------------  -----  \n",
      " 0   ID                 4806 non-null   int64  \n",
      " 1   Mandante           4806 non-null   int64  \n",
      " 2   Chutes             4754 non-null   float64\n",
      " 3   Chutes a gol       4754 non-null   float64\n",
      " 4   Posse de bola      4754 non-null   object \n",
      " 5   Passes             4754 non-null   float64\n",
      " 6   Precisão de passe  2478 non-null   object \n",
      " 7   Faltas             4754 non-null   float64\n",
      " 8   Cartões amarelos   4754 non-null   float64\n",
      " 9   Cartões vermelhos  4754 non-null   float64\n",
      " 10  Impedimentos       4754 non-null   float64\n",
      " 11  Escanteios         4754 non-null   float64\n",
      "dtypes: float64(8), int64(2), object(2)\n",
      "memory usage: 450.7+ KB\n"
     ]
    },
    {
     "data": {
      "text/html": [
       "<div>\n",
       "<style scoped>\n",
       "    .dataframe tbody tr th:only-of-type {\n",
       "        vertical-align: middle;\n",
       "    }\n",
       "\n",
       "    .dataframe tbody tr th {\n",
       "        vertical-align: top;\n",
       "    }\n",
       "\n",
       "    .dataframe thead th {\n",
       "        text-align: right;\n",
       "    }\n",
       "</style>\n",
       "<table border=\"1\" class=\"dataframe\">\n",
       "  <thead>\n",
       "    <tr style=\"text-align: right;\">\n",
       "      <th></th>\n",
       "      <th>ID</th>\n",
       "      <th>Mandante</th>\n",
       "      <th>Chutes</th>\n",
       "      <th>Chutes a gol</th>\n",
       "      <th>Posse de bola</th>\n",
       "      <th>Passes</th>\n",
       "      <th>Precisão de passe</th>\n",
       "      <th>Faltas</th>\n",
       "      <th>Cartões amarelos</th>\n",
       "      <th>Cartões vermelhos</th>\n",
       "      <th>Impedimentos</th>\n",
       "      <th>Escanteios</th>\n",
       "    </tr>\n",
       "  </thead>\n",
       "  <tbody>\n",
       "    <tr>\n",
       "      <th>0</th>\n",
       "      <td>6041</td>\n",
       "      <td>1</td>\n",
       "      <td>13.0</td>\n",
       "      <td>0.0</td>\n",
       "      <td>45%</td>\n",
       "      <td>326.0</td>\n",
       "      <td>NaN</td>\n",
       "      <td>20.0</td>\n",
       "      <td>2.0</td>\n",
       "      <td>0.0</td>\n",
       "      <td>3.0</td>\n",
       "      <td>3.0</td>\n",
       "    </tr>\n",
       "    <tr>\n",
       "      <th>1</th>\n",
       "      <td>6041</td>\n",
       "      <td>0</td>\n",
       "      <td>16.0</td>\n",
       "      <td>0.0</td>\n",
       "      <td>55%</td>\n",
       "      <td>388.0</td>\n",
       "      <td>NaN</td>\n",
       "      <td>21.0</td>\n",
       "      <td>2.0</td>\n",
       "      <td>0.0</td>\n",
       "      <td>0.0</td>\n",
       "      <td>5.0</td>\n",
       "    </tr>\n",
       "    <tr>\n",
       "      <th>2</th>\n",
       "      <td>6040</td>\n",
       "      <td>1</td>\n",
       "      <td>17.0</td>\n",
       "      <td>0.0</td>\n",
       "      <td>50%</td>\n",
       "      <td>406.0</td>\n",
       "      <td>NaN</td>\n",
       "      <td>20.0</td>\n",
       "      <td>2.0</td>\n",
       "      <td>0.0</td>\n",
       "      <td>2.0</td>\n",
       "      <td>11.0</td>\n",
       "    </tr>\n",
       "  </tbody>\n",
       "</table>\n",
       "</div>"
      ],
      "text/plain": [
       "     ID  Mandante  Chutes  Chutes a gol Posse de bola  Passes  \\\n",
       "0  6041         1    13.0           0.0           45%   326.0   \n",
       "1  6041         0    16.0           0.0           55%   388.0   \n",
       "2  6040         1    17.0           0.0           50%   406.0   \n",
       "\n",
       "  Precisão de passe  Faltas  Cartões amarelos  Cartões vermelhos  \\\n",
       "0               NaN    20.0               2.0                0.0   \n",
       "1               NaN    21.0               2.0                0.0   \n",
       "2               NaN    20.0               2.0                0.0   \n",
       "\n",
       "   Impedimentos  Escanteios  \n",
       "0           3.0         3.0  \n",
       "1           0.0         5.0  \n",
       "2           2.0        11.0  "
      ]
     },
     "metadata": {},
     "output_type": "display_data"
    },
    {
     "data": {
      "text/plain": [
       "None"
      ]
     },
     "metadata": {},
     "output_type": "display_data"
    },
    {
     "name": "stdout",
     "output_type": "stream",
     "text": [
      "\n",
      "\n",
      "\n",
      "<class 'pandas.core.frame.DataFrame'>\n",
      "RangeIndex: 8440 entries, 0 to 8439\n",
      "Data columns (total 14 columns):\n",
      " #   Column            Non-Null Count  Dtype  \n",
      "---  ------            --------------  -----  \n",
      " 0   ID                8440 non-null   int64  \n",
      " 1   Rodada            8440 non-null   object \n",
      " 2   Data              8436 non-null   object \n",
      " 3   Horário           8079 non-null   object \n",
      " 4   Dia               8436 non-null   object \n",
      " 5   Mandante          8440 non-null   object \n",
      " 6   Visitante         8440 non-null   object \n",
      " 7   Vencedor          8440 non-null   object \n",
      " 8   Arena             8436 non-null   object \n",
      " 9   Mandante Placar   8436 non-null   float64\n",
      " 10  Visitante Placar  8436 non-null   float64\n",
      " 11  Estado Mandante   8440 non-null   object \n",
      " 12  Estado Visitante  8440 non-null   object \n",
      " 13  Estado Vencedor   8440 non-null   object \n",
      "dtypes: float64(2), int64(1), object(11)\n",
      "memory usage: 923.2+ KB\n"
     ]
    },
    {
     "data": {
      "text/html": [
       "<div>\n",
       "<style scoped>\n",
       "    .dataframe tbody tr th:only-of-type {\n",
       "        vertical-align: middle;\n",
       "    }\n",
       "\n",
       "    .dataframe tbody tr th {\n",
       "        vertical-align: top;\n",
       "    }\n",
       "\n",
       "    .dataframe thead th {\n",
       "        text-align: right;\n",
       "    }\n",
       "</style>\n",
       "<table border=\"1\" class=\"dataframe\">\n",
       "  <thead>\n",
       "    <tr style=\"text-align: right;\">\n",
       "      <th></th>\n",
       "      <th>ID</th>\n",
       "      <th>Rodada</th>\n",
       "      <th>Data</th>\n",
       "      <th>Horário</th>\n",
       "      <th>Dia</th>\n",
       "      <th>Mandante</th>\n",
       "      <th>Visitante</th>\n",
       "      <th>Vencedor</th>\n",
       "      <th>Arena</th>\n",
       "      <th>Mandante Placar</th>\n",
       "      <th>Visitante Placar</th>\n",
       "      <th>Estado Mandante</th>\n",
       "      <th>Estado Visitante</th>\n",
       "      <th>Estado Vencedor</th>\n",
       "    </tr>\n",
       "  </thead>\n",
       "  <tbody>\n",
       "    <tr>\n",
       "      <th>0</th>\n",
       "      <td>1</td>\n",
       "      <td>1</td>\n",
       "      <td>2000-07-29</td>\n",
       "      <td>16h00</td>\n",
       "      <td>Sábado</td>\n",
       "      <td>Fluminense</td>\n",
       "      <td>Bahia</td>\n",
       "      <td>Fluminense</td>\n",
       "      <td>Maracanã</td>\n",
       "      <td>2.0</td>\n",
       "      <td>0.0</td>\n",
       "      <td>RJ</td>\n",
       "      <td>BA</td>\n",
       "      <td>RJ</td>\n",
       "    </tr>\n",
       "    <tr>\n",
       "      <th>1</th>\n",
       "      <td>2</td>\n",
       "      <td>1</td>\n",
       "      <td>2000-07-29</td>\n",
       "      <td>16h00</td>\n",
       "      <td>Sábado</td>\n",
       "      <td>Vasco</td>\n",
       "      <td>Sport</td>\n",
       "      <td>Sport</td>\n",
       "      <td>São Januário</td>\n",
       "      <td>0.0</td>\n",
       "      <td>2.0</td>\n",
       "      <td>RJ</td>\n",
       "      <td>PE</td>\n",
       "      <td>PE</td>\n",
       "    </tr>\n",
       "    <tr>\n",
       "      <th>2</th>\n",
       "      <td>3</td>\n",
       "      <td>1</td>\n",
       "      <td>2000-07-29</td>\n",
       "      <td>16h00</td>\n",
       "      <td>Sábado</td>\n",
       "      <td>Vitória</td>\n",
       "      <td>Palmeiras</td>\n",
       "      <td>Vitória</td>\n",
       "      <td>Barradão</td>\n",
       "      <td>4.0</td>\n",
       "      <td>1.0</td>\n",
       "      <td>ES</td>\n",
       "      <td>SP</td>\n",
       "      <td>ES</td>\n",
       "    </tr>\n",
       "  </tbody>\n",
       "</table>\n",
       "</div>"
      ],
      "text/plain": [
       "   ID Rodada        Data Horário     Dia    Mandante  Visitante    Vencedor  \\\n",
       "0   1      1  2000-07-29   16h00  Sábado  Fluminense      Bahia  Fluminense   \n",
       "1   2      1  2000-07-29   16h00  Sábado       Vasco      Sport       Sport   \n",
       "2   3      1  2000-07-29   16h00  Sábado     Vitória  Palmeiras     Vitória   \n",
       "\n",
       "          Arena  Mandante Placar  Visitante Placar Estado Mandante  \\\n",
       "0      Maracanã              2.0               0.0              RJ   \n",
       "1  São Januário              0.0               2.0              RJ   \n",
       "2      Barradão              4.0               1.0              ES   \n",
       "\n",
       "  Estado Visitante Estado Vencedor  \n",
       "0               BA              RJ  \n",
       "1               PE              PE  \n",
       "2               SP              ES  "
      ]
     },
     "metadata": {},
     "output_type": "display_data"
    },
    {
     "data": {
      "text/plain": [
       "None"
      ]
     },
     "metadata": {},
     "output_type": "display_data"
    }
   ],
   "source": [
    "display(\n",
    "    df.head(3),\n",
    "    df.info(3)\n",
    ")\n",
    "print(\"\\n\\n\")\n",
    "display(\n",
    "    times.head(3),\n",
    "    times.info(3)\n",
    ")"
   ]
  },
  {
   "cell_type": "code",
   "execution_count": 245,
   "metadata": {},
   "outputs": [
    {
     "data": {
      "text/html": [
       "<div>\n",
       "<style scoped>\n",
       "    .dataframe tbody tr th:only-of-type {\n",
       "        vertical-align: middle;\n",
       "    }\n",
       "\n",
       "    .dataframe tbody tr th {\n",
       "        vertical-align: top;\n",
       "    }\n",
       "\n",
       "    .dataframe thead th {\n",
       "        text-align: right;\n",
       "    }\n",
       "</style>\n",
       "<table border=\"1\" class=\"dataframe\">\n",
       "  <thead>\n",
       "    <tr style=\"text-align: right;\">\n",
       "      <th></th>\n",
       "      <th>estado</th>\n",
       "      <th>uf</th>\n",
       "      <th>regiao</th>\n",
       "    </tr>\n",
       "  </thead>\n",
       "  <tbody>\n",
       "    <tr>\n",
       "      <th>0</th>\n",
       "      <td>Acre</td>\n",
       "      <td>AC</td>\n",
       "      <td>Norte</td>\n",
       "    </tr>\n",
       "    <tr>\n",
       "      <th>1</th>\n",
       "      <td>Alagoas</td>\n",
       "      <td>AL</td>\n",
       "      <td>Nordeste</td>\n",
       "    </tr>\n",
       "    <tr>\n",
       "      <th>2</th>\n",
       "      <td>Amap</td>\n",
       "      <td>AP</td>\n",
       "      <td>Norte</td>\n",
       "    </tr>\n",
       "  </tbody>\n",
       "</table>\n",
       "</div>"
      ],
      "text/plain": [
       "    estado  uf    regiao\n",
       "0     Acre  AC     Norte\n",
       "1  Alagoas  AL  Nordeste\n",
       "2    Amap  AP     Norte"
      ]
     },
     "execution_count": 245,
     "metadata": {},
     "output_type": "execute_result"
    }
   ],
   "source": [
    "estados.head(3)"
   ]
  },
  {
   "cell_type": "code",
   "execution_count": 246,
   "metadata": {
    "id": "AoG78u1r_iZP"
   },
   "outputs": [],
   "source": [
    "## Algumas funções necessárias ##\n",
    "\n",
    "# transformar string em datetime\n",
    "def to_time(df, col):\n",
    "    df[col] = pd.to_datetime(df[col])\n",
    "\n",
    "# transformação de uma variável em um inteiro\n",
    "def to_int (df, col):\n",
    "    df[col] = df[col].str.astype(int)\n",
    "\n",
    "def str_to_float (df, col):\n",
    "    df[col] = df[col].str.replace('%', '').astype(float)\n",
    "\n",
    "# plot dos valores faltantes\n",
    "def missing_map(df, size_x, size_y, color = 'Reds'):\n",
    "    plt.figure(figsize=(size_x,size_y))\n",
    "    plt.title(f\"Valores Faltantes em {df.name}\", fontweight = 'bold', fontsize = 15)\n",
    "    ax = sns.heatmap(df.isna().sum().to_frame(), annot = True, fmt = 'd', cmap = color)\n",
    "    ax.set_ylabel(\"Variáveis\", fontsize=12)\n",
    "    ax.set_xlabel('Quantidade Faltante', fontsize=12)\n",
    "\n",
    "# função para transformar as observações em minúsculas\n",
    "def to_lower(df, col):\n",
    "    df[col] = df[col].str.lower()"
   ]
  },
  {
   "cell_type": "code",
   "execution_count": 247,
   "metadata": {},
   "outputs": [],
   "source": [
    "## Ajustes nos datasets ##\n",
    "\n",
    "# Algumas transformações necessárias\n",
    "to_time(times, 'Data')\n",
    "times.Mandante = times.Mandante.replace('athletico-pr','athlético-pr')\n",
    "times.Visitante = times.Visitante.replace('athletico-pr','athlético-pr')\n",
    "\n",
    "# colocando para minúsculas (ajuda nas duplicidades)\n",
    "for i in ['Dia', 'Mandante', 'Visitante','Vencedor', 'Arena','Estado Mandante', 'Estado Visitante', 'Estado Vencedor']:\n",
    "    to_lower(times, i)\n",
    "\n",
    "for i in estados.columns:\n",
    "    to_lower(estados, i)\n",
    "\n",
    "# renomeando as colunas do dataset\n",
    "rename_df = {\n",
    "     'ID': 'id', \n",
    "     'Mandante': 'mandante',\n",
    "     'Chutes': 'chutes', \n",
    "     'Chutes a gol': 'chutes_gol', \n",
    "     'Posse de bola': 'posse_bola', \n",
    "     'Passes': 'passes',\n",
    "     'Precisão de passe': 'precisao_passes', \n",
    "     'Faltas': 'faltas', \n",
    "     'Cartões amarelos': 'cartoes_amarelos', \n",
    "     'Cartões vermelhos': 'cartoes_vermelhos',\n",
    "     'Impedimentos': 'impedimentos', \n",
    "     'Escanteios': 'escanteios' \n",
    "}\n",
    "df = df.rename(columns = rename_df)\n",
    "\n",
    "rename_times = {\n",
    "    'ID': 'id',\n",
    "    'Rodada': 'rodada',\n",
    "    'Data': 'data',\n",
    "    'Horário':'horario',\n",
    "    'Dia':'dia',\n",
    "    'Mandante':'mandante',\n",
    "    'Visitante':'visitante',\n",
    "    'Vencedor':'vencedor',\n",
    "    'Arena':'arena',\n",
    "    'Mandante Placar':'mandante_placar',\n",
    "    'Visitante Placar':'visitante_placar',\n",
    "    'Estado Mandante':'estado_mandante',\n",
    "    'Estado Visitante':'estado_visitante',\n",
    "    'Estado Vencedor': 'estado_vencedor'\n",
    "    }\n",
    "times = times.rename(columns = rename_times)\n",
    "\n",
    "# retirando o símbolo de % e transformando em float\n",
    "for i in ['posse_bola','precisao_passes']:\n",
    "    str_to_float(df, i)\n",
    "    \n",
    "# Dando nomes aos datasets\n",
    "df.name = 'df'; times.name = 'times'; estados.name = 'estados'"
   ]
  },
  {
   "cell_type": "code",
   "execution_count": 248,
   "metadata": {
    "colab": {
     "base_uri": "https://localhost:8080/",
     "height": 693
    },
    "id": "zV2VvZ5ZA9vj",
    "outputId": "d78749d7-9a4f-42ae-a9d2-bee9dcf4fc99"
   },
   "outputs": [
    {
     "data": {
      "image/png": "[encoded data removed]",
      "text/plain": [
       "<Figure size 1080x360 with 2 Axes>"
      ]
     },
     "metadata": {
      "needs_background": "light"
     },
     "output_type": "display_data"
    },
    {
     "data": {
      "image/png": "[encoded data removed]",
      "text/plain": [
       "<Figure size 1080x360 with 2 Axes>"
      ]
     },
     "metadata": {
      "needs_background": "light"
     },
     "output_type": "display_data"
    }
   ],
   "source": [
    "# verificando valores faltantes\n",
    "missing_map(df, 15, 5)\n",
    "missing_map(times, 15, 5, color=\"RdPu\") "
   ]
  },
  {
   "cell_type": "code",
   "execution_count": 249,
   "metadata": {},
   "outputs": [
    {
     "data": {
      "text/html": [
       "<div>\n",
       "<style scoped>\n",
       "    .dataframe tbody tr th:only-of-type {\n",
       "        vertical-align: middle;\n",
       "    }\n",
       "\n",
       "    .dataframe tbody tr th {\n",
       "        vertical-align: top;\n",
       "    }\n",
       "\n",
       "    .dataframe thead th {\n",
       "        text-align: right;\n",
       "    }\n",
       "</style>\n",
       "<table border=\"1\" class=\"dataframe\">\n",
       "  <thead>\n",
       "    <tr style=\"text-align: right;\">\n",
       "      <th></th>\n",
       "      <th>id</th>\n",
       "      <th>mandante</th>\n",
       "      <th>chutes</th>\n",
       "      <th>chutes_gol</th>\n",
       "      <th>posse_bola</th>\n",
       "      <th>passes</th>\n",
       "      <th>precisao_passes</th>\n",
       "      <th>faltas</th>\n",
       "      <th>cartoes_amarelos</th>\n",
       "      <th>cartoes_vermelhos</th>\n",
       "      <th>impedimentos</th>\n",
       "      <th>escanteios</th>\n",
       "    </tr>\n",
       "  </thead>\n",
       "  <tbody>\n",
       "    <tr>\n",
       "      <th>626</th>\n",
       "      <td>6353</td>\n",
       "      <td>1</td>\n",
       "      <td>14.0</td>\n",
       "      <td>0.0</td>\n",
       "      <td>53.0</td>\n",
       "      <td>452.0</td>\n",
       "      <td>NaN</td>\n",
       "      <td>15.0</td>\n",
       "      <td>2.0</td>\n",
       "      <td>0.0</td>\n",
       "      <td>1.0</td>\n",
       "      <td>11.0</td>\n",
       "    </tr>\n",
       "    <tr>\n",
       "      <th>77</th>\n",
       "      <td>6078</td>\n",
       "      <td>0</td>\n",
       "      <td>7.0</td>\n",
       "      <td>2.0</td>\n",
       "      <td>33.0</td>\n",
       "      <td>253.0</td>\n",
       "      <td>NaN</td>\n",
       "      <td>23.0</td>\n",
       "      <td>3.0</td>\n",
       "      <td>1.0</td>\n",
       "      <td>0.0</td>\n",
       "      <td>1.0</td>\n",
       "    </tr>\n",
       "    <tr>\n",
       "      <th>290</th>\n",
       "      <td>6184</td>\n",
       "      <td>1</td>\n",
       "      <td>21.0</td>\n",
       "      <td>0.0</td>\n",
       "      <td>58.0</td>\n",
       "      <td>416.0</td>\n",
       "      <td>NaN</td>\n",
       "      <td>10.0</td>\n",
       "      <td>2.0</td>\n",
       "      <td>0.0</td>\n",
       "      <td>1.0</td>\n",
       "      <td>13.0</td>\n",
       "    </tr>\n",
       "  </tbody>\n",
       "</table>\n",
       "</div>"
      ],
      "text/plain": [
       "       id  mandante  chutes  chutes_gol  posse_bola  passes  precisao_passes  \\\n",
       "626  6353         1    14.0         0.0        53.0   452.0              NaN   \n",
       "77   6078         0     7.0         2.0        33.0   253.0              NaN   \n",
       "290  6184         1    21.0         0.0        58.0   416.0              NaN   \n",
       "\n",
       "     faltas  cartoes_amarelos  cartoes_vermelhos  impedimentos  escanteios  \n",
       "626    15.0               2.0                0.0           1.0        11.0  \n",
       "77     23.0               3.0                1.0           0.0         1.0  \n",
       "290    10.0               2.0                0.0           1.0        13.0  "
      ]
     },
     "metadata": {},
     "output_type": "display_data"
    },
    {
     "data": {
      "text/html": [
       "<div>\n",
       "<style scoped>\n",
       "    .dataframe tbody tr th:only-of-type {\n",
       "        vertical-align: middle;\n",
       "    }\n",
       "\n",
       "    .dataframe tbody tr th {\n",
       "        vertical-align: top;\n",
       "    }\n",
       "\n",
       "    .dataframe thead th {\n",
       "        text-align: right;\n",
       "    }\n",
       "</style>\n",
       "<table border=\"1\" class=\"dataframe\">\n",
       "  <thead>\n",
       "    <tr style=\"text-align: right;\">\n",
       "      <th></th>\n",
       "      <th>id</th>\n",
       "      <th>rodada</th>\n",
       "      <th>data</th>\n",
       "      <th>horario</th>\n",
       "      <th>dia</th>\n",
       "      <th>mandante</th>\n",
       "      <th>visitante</th>\n",
       "      <th>vencedor</th>\n",
       "      <th>arena</th>\n",
       "      <th>mandante_placar</th>\n",
       "      <th>visitante_placar</th>\n",
       "      <th>estado_mandante</th>\n",
       "      <th>estado_visitante</th>\n",
       "      <th>estado_vencedor</th>\n",
       "    </tr>\n",
       "  </thead>\n",
       "  <tbody>\n",
       "    <tr>\n",
       "      <th>4553</th>\n",
       "      <td>4554</td>\n",
       "      <td>4</td>\n",
       "      <td>2011-06-12</td>\n",
       "      <td>16h00</td>\n",
       "      <td>domingo</td>\n",
       "      <td>bahia</td>\n",
       "      <td>atlético-mg</td>\n",
       "      <td>-</td>\n",
       "      <td>pituaçu</td>\n",
       "      <td>1.0</td>\n",
       "      <td>1.0</td>\n",
       "      <td>ba</td>\n",
       "      <td>mg</td>\n",
       "      <td>-</td>\n",
       "    </tr>\n",
       "    <tr>\n",
       "      <th>6509</th>\n",
       "      <td>6510</td>\n",
       "      <td>10</td>\n",
       "      <td>2016-06-21</td>\n",
       "      <td>21:30</td>\n",
       "      <td>terça-feira</td>\n",
       "      <td>palmeiras</td>\n",
       "      <td>américa-mg</td>\n",
       "      <td>palmeiras</td>\n",
       "      <td>palestra itália</td>\n",
       "      <td>2.0</td>\n",
       "      <td>0.0</td>\n",
       "      <td>sp</td>\n",
       "      <td>mg</td>\n",
       "      <td>sp</td>\n",
       "    </tr>\n",
       "    <tr>\n",
       "      <th>3788</th>\n",
       "      <td>3789</td>\n",
       "      <td>3</td>\n",
       "      <td>2009-05-24</td>\n",
       "      <td>16h00</td>\n",
       "      <td>domingo</td>\n",
       "      <td>fluminense</td>\n",
       "      <td>santos</td>\n",
       "      <td>santos</td>\n",
       "      <td>maracanã</td>\n",
       "      <td>1.0</td>\n",
       "      <td>4.0</td>\n",
       "      <td>rj</td>\n",
       "      <td>sp</td>\n",
       "      <td>sp</td>\n",
       "    </tr>\n",
       "  </tbody>\n",
       "</table>\n",
       "</div>"
      ],
      "text/plain": [
       "        id rodada       data horario          dia    mandante    visitante  \\\n",
       "4553  4554      4 2011-06-12   16h00      domingo       bahia  atlético-mg   \n",
       "6509  6510     10 2016-06-21   21:30  terça-feira   palmeiras   américa-mg   \n",
       "3788  3789      3 2009-05-24   16h00      domingo  fluminense       santos   \n",
       "\n",
       "       vencedor            arena  mandante_placar  visitante_placar  \\\n",
       "4553          -          pituaçu              1.0               1.0   \n",
       "6509  palmeiras  palestra itália              2.0               0.0   \n",
       "3788     santos         maracanã              1.0               4.0   \n",
       "\n",
       "     estado_mandante estado_visitante estado_vencedor  \n",
       "4553              ba               mg               -  \n",
       "6509              sp               mg              sp  \n",
       "3788              rj               sp              sp  "
      ]
     },
     "metadata": {},
     "output_type": "display_data"
    },
    {
     "data": {
      "text/html": [
       "<div>\n",
       "<style scoped>\n",
       "    .dataframe tbody tr th:only-of-type {\n",
       "        vertical-align: middle;\n",
       "    }\n",
       "\n",
       "    .dataframe tbody tr th {\n",
       "        vertical-align: top;\n",
       "    }\n",
       "\n",
       "    .dataframe thead th {\n",
       "        text-align: right;\n",
       "    }\n",
       "</style>\n",
       "<table border=\"1\" class=\"dataframe\">\n",
       "  <thead>\n",
       "    <tr style=\"text-align: right;\">\n",
       "      <th></th>\n",
       "      <th>estado</th>\n",
       "      <th>uf</th>\n",
       "      <th>regiao</th>\n",
       "    </tr>\n",
       "  </thead>\n",
       "  <tbody>\n",
       "    <tr>\n",
       "      <th>3</th>\n",
       "      <td>amazonas</td>\n",
       "      <td>am</td>\n",
       "      <td>norte</td>\n",
       "    </tr>\n",
       "    <tr>\n",
       "      <th>16</th>\n",
       "      <td>pernambuco</td>\n",
       "      <td>pe</td>\n",
       "      <td>nordeste</td>\n",
       "    </tr>\n",
       "    <tr>\n",
       "      <th>15</th>\n",
       "      <td>paran</td>\n",
       "      <td>pr</td>\n",
       "      <td>sul</td>\n",
       "    </tr>\n",
       "  </tbody>\n",
       "</table>\n",
       "</div>"
      ],
      "text/plain": [
       "        estado  uf    regiao\n",
       "3     amazonas  am     norte\n",
       "16  pernambuco  pe  nordeste\n",
       "15      paran  pr       sul"
      ]
     },
     "metadata": {},
     "output_type": "display_data"
    }
   ],
   "source": [
    "display(df.sample(3), times.sample(3), estados.sample(3))"
   ]
  },
  {
   "cell_type": "code",
   "execution_count": 250,
   "metadata": {
    "colab": {
     "base_uri": "https://localhost:8080/"
    },
    "id": "4ACmAN8Cr-1q",
    "outputId": "9f828437-bb07-42c7-e247-ed9b5e751621"
   },
   "outputs": [
    {
     "data": {
      "text/plain": [
       "array(['américa-mg', 'américa-rn', 'athlético-pr', 'atlético-go',\n",
       "       'atlético-mg', 'avaí', 'bahia', 'barueri', 'botafogo-rj',\n",
       "       'botafogo-sp', 'bragantino', 'brasiliense', 'ceará', 'chapecoense',\n",
       "       'corinthians', 'coritiba', 'criciúma', 'cruzeiro', 'csa', 'cuiabá',\n",
       "       'figueirense', 'flamengo', 'fluminense', 'fortaleza', 'gama',\n",
       "       'goiás', 'grêmio', 'grêmio prudente', 'guarani', 'internacional',\n",
       "       'ipatinga', 'joinville', 'juventude', 'malutrom', 'náutico',\n",
       "       'palmeiras', 'paraná', 'paysandu', 'ponte preta', 'portuguesa',\n",
       "       'remo', 'santa cruz', 'santo andré', 'santos', 'sport',\n",
       "       'são caetano', 'são paulo', 'vasco', 'vitória'], dtype=object)"
      ]
     },
     "execution_count": 250,
     "metadata": {},
     "output_type": "execute_result"
    }
   ],
   "source": [
    "times_todos = np.unique(\n",
    "    np.concatenate([times.mandante.unique(), \n",
    "                    times.visitante.unique()]))\n",
    "\n",
    "times_todos"
   ]
  },
  {
   "cell_type": "code",
   "execution_count": 251,
   "metadata": {},
   "outputs": [
    {
     "data": {
      "text/plain": [
       "array(['ac', 'al', 'ap', 'am', 'ba', 'ce', 'df', 'es', 'go', 'ma', 'mt',\n",
       "       'ms', 'mg', 'pa', 'pb', 'pr', 'pe', 'pi', 'rj', 'rn', 'rs', 'ro',\n",
       "       'rr', 'sc', 'sp', 'se', 'to'], dtype=object)"
      ]
     },
     "execution_count": 251,
     "metadata": {},
     "output_type": "execute_result"
    }
   ],
   "source": [
    "ufs = np.array(estados.uf)\n",
    "ufs"
   ]
  },
  {
   "cell_type": "markdown",
   "metadata": {
    "id": "7Zn6M8LbQcUw",
    "tags": []
   },
   "source": [
    "## Criando uma função para ver as estatísticas"
   ]
  },
  {
   "cell_type": "code",
   "execution_count": 259,
   "metadata": {
    "colab": {
     "base_uri": "https://localhost:8080/"
    },
    "id": "NsW9UcoEQbka",
    "outputId": "adc3d2b5-7186-45b2-d6b5-b46d706f767c"
   },
   "outputs": [
    {
     "name": "stdout",
     "output_type": "stream",
     "text": [
      "---*---*---*---*---*---*---*---*---*---*---*---*---*---*---\n",
      "                   AVALIAÇÃO DO SEU TIME!\n",
      "---*---*---*---*---*---*---*---*---*---*---*---*---*---*---\n",
      "\n"
     ]
    },
    {
     "name": "stdin",
     "output_type": "stream",
     "text": [
      "\n",
      "Qual o time que deseja avaliar?\n",
      ">> Time:  ceará\n",
      "\n",
      "Qual a UF do time escolhido?\n",
      ">> UF:  ce\n"
     ]
    },
    {
     "name": "stdout",
     "output_type": "stream",
     "text": [
      "\n",
      "............................................................\n",
      "\n",
      "\n",
      ">>>   Algumas estatísticas sobre o time Ceará   <<<\n",
      "\n",
      "- Número de vitórias do time nas temporadas: 59\n",
      "- Percentual de vitórias por temporada: 29.21%\n",
      "\n",
      "- Número de empates do time nas temporadas: 65\n",
      "- Percentual de empates por temporada: 32.18%\n",
      "\n",
      "- Número de derrotas do time nas temporadas: 78\n",
      "- Percentual de derrotas por temporada: 38.61%\n",
      "\n",
      "- Temporadas dem que o time ficou na 1º divisão: [2010 2011 2018 2019 2020 2021]\n",
      "- De 19 temporadas da Série A, participou de 6 temporadas. Ou seja, de 31.58%\n",
      "\n",
      "\n"
     ]
    },
    {
     "name": "stdin",
     "output_type": "stream",
     "text": [
      "---*---*---*---*---*---*---*---*---*---*---*---*---*---*---\n",
      "\n",
      "Deseja ver outro time?\n",
      "Resposta:  t\n"
     ]
    },
    {
     "ename": "AssertionError",
     "evalue": "Sim ou não!",
     "output_type": "error",
     "traceback": [
      "\u001b[0;31m---------------------------------------------------------------------------\u001b[0m",
      "\u001b[0;31mAssertionError\u001b[0m                            Traceback (most recent call last)",
      "\u001b[0;32m/var/folders/18/y0jr9hp54pd675hslfp3x72c0000gq/T/ipykernel_29016/3042434006.py\u001b[0m in \u001b[0;36m<module>\u001b[0;34m\u001b[0m\n\u001b[1;32m     42\u001b[0m continuar = input(\"---*---*---*---*---*---*---*---*---*---*---*---*---*---*---\\n\\n\"\n\u001b[1;32m     43\u001b[0m \"Deseja ver outro time?\\nResposta: \")\n\u001b[0;32m---> 44\u001b[0;31m \u001b[0;32massert\u001b[0m \u001b[0mcontinuar\u001b[0m \u001b[0;32min\u001b[0m \u001b[0;34m(\u001b[0m\u001b[0;34m\"s\"\u001b[0m\u001b[0;34m,\u001b[0m\u001b[0;34m\"sim\"\u001b[0m\u001b[0;34m,\u001b[0m\u001b[0;34m\"S\"\u001b[0m\u001b[0;34m,\u001b[0m\u001b[0;34m\"Sim\"\u001b[0m\u001b[0;34m,\u001b[0m\u001b[0;34m\"yes\"\u001b[0m\u001b[0;34m,\u001b[0m\u001b[0;34m\"Yes\"\u001b[0m\u001b[0;34m,\u001b[0m\u001b[0;34m\"y\"\u001b[0m\u001b[0;34m,\u001b[0m\u001b[0;34m\"Y\"\u001b[0m\u001b[0;34m)\u001b[0m\u001b[0;34m,\u001b[0m \u001b[0;34m\"Sim ou não!\"\u001b[0m\u001b[0;34m\u001b[0m\u001b[0;34m\u001b[0m\u001b[0m\n\u001b[0m\u001b[1;32m     45\u001b[0m \u001b[0;32mwhile\u001b[0m \u001b[0mcontinuar\u001b[0m \u001b[0;32min\u001b[0m \u001b[0;34m(\u001b[0m\u001b[0;34m\"s\"\u001b[0m\u001b[0;34m,\u001b[0m\u001b[0;34m\"sim\"\u001b[0m\u001b[0;34m,\u001b[0m\u001b[0;34m\"S\"\u001b[0m\u001b[0;34m,\u001b[0m\u001b[0;34m\"Sim\"\u001b[0m\u001b[0;34m,\u001b[0m\u001b[0;34m\"yes\"\u001b[0m\u001b[0;34m,\u001b[0m\u001b[0;34m\"Yes\"\u001b[0m\u001b[0;34m,\u001b[0m\u001b[0;34m\"y\"\u001b[0m\u001b[0;34m,\u001b[0m\u001b[0;34m\"Y\"\u001b[0m\u001b[0;34m)\u001b[0m\u001b[0;34m:\u001b[0m\u001b[0;34m\u001b[0m\u001b[0;34m\u001b[0m\u001b[0m\n\u001b[1;32m     46\u001b[0m     \u001b[0mtime_escolhido\u001b[0m \u001b[0;34m=\u001b[0m \u001b[0minput\u001b[0m\u001b[0;34m(\u001b[0m\u001b[0;34m\"\\nQual o time que deseja avaliar?\\n>> Time: \"\u001b[0m\u001b[0;34m)\u001b[0m\u001b[0;34m.\u001b[0m\u001b[0mlower\u001b[0m\u001b[0;34m(\u001b[0m\u001b[0;34m)\u001b[0m\u001b[0;34m\u001b[0m\u001b[0;34m\u001b[0m\u001b[0m\n",
      "\u001b[0;31mAssertionError\u001b[0m: Sim ou não!"
     ]
    }
   ],
   "source": [
    "def stats_team(time_escolhido, uf):\n",
    "    time = times[times.data.dt.year > 2002] # Só a partir de 2002 (pontos corridos)\n",
    "    time = time[(time['mandante'] == time_escolhido) | (time['visitante'] == time_escolhido)]\n",
    "    \n",
    "    ganhou = time[time.vencedor == time_escolhido]\n",
    "    total_temporadas = len(times[pd.to_datetime(times.data).dt.year > 2002].data.dt.year.unique() - 1)\n",
    "    total_temporadas_time = len(time.data.dt.year.unique() - 1)\n",
    "\n",
    "    print(\"\\n\\n>>>   Algumas estatísticas sobre o time {}   <<<\\n\\n\"\n",
    "        \"- Número de vitórias do time nas temporadas: {}\\n\"\\\n",
    "        \"- Percentual de vitórias por temporada: {}%\\n\\n\"\\\n",
    "        \"- Número de empates do time nas temporadas: {}\\n\"\\\n",
    "        \"- Percentual de empates por temporada: {}%\\n\\n\"\\\n",
    "        \"- Número de derrotas do time nas temporadas: {}\\n\"\\\n",
    "        \"- Percentual de derrotas por temporada: {}%\\n\\n\"\\\n",
    "        \"- Temporadas dem que o time ficou na 1º divisão: {}\\n\"\\\n",
    "        \"- De {} temporadas da Série A, participou de {} temporadas. Ou seja, de {}%\\n\\n\"\\\n",
    "        .format(pd.Series([time_escolhido]).str.title()[0],\n",
    "                time[time['estado_vencedor'] == uf].id.count(),\n",
    "                round((100 * time[time['estado_vencedor'] == UF].id.count() / time.id.count()), 2),\n",
    "                time[(time['estado_vencedor'] == '-')].id.count(),\n",
    "                round((100 * time[time['estado_vencedor'] == '-'].id.count() / time.id.count()), 2),\n",
    "                time[(time['estado_vencedor'] != uf) & (time['estado_vencedor'] != '-')].id.count(),\n",
    "                round((100 * time[(time['estado_vencedor'] != uf) & (time['estado_vencedor'] != '-')].id.count() / time.id.count()), 2),\n",
    "                ganhou.data.dt.year.unique(),\n",
    "                total_temporadas, total_temporadas_time, round((100*total_temporadas_time / total_temporadas), 2)\n",
    "            )\n",
    "    )\n",
    "\n",
    "# estatística sobre o time\n",
    "print(\n",
    "    \"---*---*---*---*---*---*---*---*---*---*---*---*---*---*---\\n                   \"\n",
    "    \"AVALIAÇÃO DO SEU TIME!\\n---*---*---*---*---*---*---*---*---*---*---*---*---*---*---\\n\")\n",
    "time_escolhido = input(\"\\nQual o time que deseja avaliar?\\n>> Time: \").lower()\n",
    "assert time_escolhido in times_todos, f\"Coloque um dos times que ja participaram do Brasileirão\\n {sorted(times_todos)}\"\n",
    "UF = input(\"\\nQual a UF do time escolhido?\\n>> UF: \").lower()\n",
    "assert UF in ufs, f\"Coloque um estado válido\\n {sorted(estados.uf)}\"\n",
    "print(\"\\n............................................................\")\n",
    "stats_team(time_escolhido, UF)                                      \n",
    "\n",
    "# looping\n",
    "continuar = input(\"---*---*---*---*---*---*---*---*---*---*---*---*---*---*---\\n\\n\"\n",
    "\"Deseja ver outro time?\\nResposta: \")\n",
    "assert continuar in (\"s\",\"sim\",\"S\",\"Sim\",\"yes\",\"Yes\",\"y\",\"Y\"), \"Sim ou não!\"\n",
    "while continuar in (\"s\",\"sim\",\"S\",\"Sim\",\"yes\",\"Yes\",\"y\",\"Y\"):\n",
    "    time_escolhido = input(\"\\nQual o time que deseja avaliar?\\n>> Time: \").lower()\n",
    "    assert time_escolhido in times_todos, f\"Coloque um dos times que ja participaram do Brasileirão\\n {sorted(times_todos)}\"\n",
    "    UF = input(\"\\nQual a UF do time escolhido?\\n>> UF: \").lower()\n",
    "    assert UF in ufs, f\"Coloque um estado válido\\n {sorted(estados.uf)}\"\n",
    "    print(\"\\n---.---.---.---.---.---.---.---.---.---.---.---.---.---.---\")\n",
    "    stats_team(time_escolhido, UF)\n",
    "    continuar = input(\"---*---*---*---*---*---*---*---*---*---*---*---*---*---*---\\n\\n\"\n",
    "    \"Deseja ver outro time?\\n\\nResposta: \")\n",
    "    assert continuar in (\"s\",\"sim\",\"S\",\"Sim\",\"yes\",\"Yes\",\"y\",\"Y\"), \"Sim ou não!\""
   ]
  },
  {
   "cell_type": "markdown",
   "metadata": {
    "id": "fqxEOr8Y1acR"
   },
   "source": [
    "### Questionamentos\n",
    "\n",
    "- O time teve melhor desempenho em casa ou fora de casa?\n",
    "- Quais as chances de o time ganhar em casa?\n",
    "- "
   ]
  },
  {
   "cell_type": "code",
   "execution_count": null,
   "metadata": {
    "colab": {
     "base_uri": "https://localhost:8080/",
     "height": 391
    },
    "id": "7qcFUh-2PCY7",
    "outputId": "b7feb9a9-31d8-4db5-895f-16db85456600"
   },
   "outputs": [
    {
     "data": {
      "text/html": [
       "<div>\n",
       "<style scoped>\n",
       "    .dataframe tbody tr th:only-of-type {\n",
       "        vertical-align: middle;\n",
       "    }\n",
       "\n",
       "    .dataframe tbody tr th {\n",
       "        vertical-align: top;\n",
       "    }\n",
       "\n",
       "    .dataframe thead th {\n",
       "        text-align: right;\n",
       "    }\n",
       "</style>\n",
       "<table border=\"1\" class=\"dataframe\">\n",
       "  <thead>\n",
       "    <tr style=\"text-align: right;\">\n",
       "      <th></th>\n",
       "      <th>ID</th>\n",
       "      <th>Rodada</th>\n",
       "      <th>Data</th>\n",
       "      <th>Horário</th>\n",
       "      <th>Dia</th>\n",
       "      <th>Mandante</th>\n",
       "      <th>Visitante</th>\n",
       "      <th>Vencedor</th>\n",
       "      <th>Arena</th>\n",
       "      <th>Mandante Placar</th>\n",
       "      <th>Visitante Placar</th>\n",
       "      <th>Estado Mandante</th>\n",
       "      <th>Estado Visitante</th>\n",
       "      <th>Estado Vencedor</th>\n",
       "    </tr>\n",
       "  </thead>\n",
       "  <tbody>\n",
       "    <tr>\n",
       "      <th>0</th>\n",
       "      <td>1</td>\n",
       "      <td>1</td>\n",
       "      <td>2000-07-29</td>\n",
       "      <td>16h00</td>\n",
       "      <td>sábado</td>\n",
       "      <td>fluminense</td>\n",
       "      <td>bahia</td>\n",
       "      <td>fluminense</td>\n",
       "      <td>maracanã</td>\n",
       "      <td>2.0</td>\n",
       "      <td>0.0</td>\n",
       "      <td>rj</td>\n",
       "      <td>ba</td>\n",
       "      <td>rj</td>\n",
       "    </tr>\n",
       "    <tr>\n",
       "      <th>1</th>\n",
       "      <td>2</td>\n",
       "      <td>1</td>\n",
       "      <td>2000-07-29</td>\n",
       "      <td>16h00</td>\n",
       "      <td>sábado</td>\n",
       "      <td>vasco</td>\n",
       "      <td>sport</td>\n",
       "      <td>sport</td>\n",
       "      <td>são januário</td>\n",
       "      <td>0.0</td>\n",
       "      <td>2.0</td>\n",
       "      <td>rj</td>\n",
       "      <td>pe</td>\n",
       "      <td>pe</td>\n",
       "    </tr>\n",
       "    <tr>\n",
       "      <th>2</th>\n",
       "      <td>3</td>\n",
       "      <td>1</td>\n",
       "      <td>2000-07-29</td>\n",
       "      <td>16h00</td>\n",
       "      <td>sábado</td>\n",
       "      <td>vitória</td>\n",
       "      <td>palmeiras</td>\n",
       "      <td>vitória</td>\n",
       "      <td>barradão</td>\n",
       "      <td>4.0</td>\n",
       "      <td>1.0</td>\n",
       "      <td>es</td>\n",
       "      <td>sp</td>\n",
       "      <td>es</td>\n",
       "    </tr>\n",
       "    <tr>\n",
       "      <th>3</th>\n",
       "      <td>4</td>\n",
       "      <td>1</td>\n",
       "      <td>2000-07-30</td>\n",
       "      <td>17h00</td>\n",
       "      <td>domingo</td>\n",
       "      <td>botafogo-rj</td>\n",
       "      <td>atlético-mg</td>\n",
       "      <td>-</td>\n",
       "      <td>caio martins</td>\n",
       "      <td>0.0</td>\n",
       "      <td>0.0</td>\n",
       "      <td>rj</td>\n",
       "      <td>mg</td>\n",
       "      <td>-</td>\n",
       "    </tr>\n",
       "    <tr>\n",
       "      <th>4</th>\n",
       "      <td>5</td>\n",
       "      <td>1</td>\n",
       "      <td>2000-07-30</td>\n",
       "      <td>18h30</td>\n",
       "      <td>domingo</td>\n",
       "      <td>juventude</td>\n",
       "      <td>flamengo</td>\n",
       "      <td>-</td>\n",
       "      <td>alfredo jaconi</td>\n",
       "      <td>1.0</td>\n",
       "      <td>1.0</td>\n",
       "      <td>rs</td>\n",
       "      <td>rj</td>\n",
       "      <td>-</td>\n",
       "    </tr>\n",
       "  </tbody>\n",
       "</table>\n",
       "</div>"
      ],
      "text/plain": [
       "   ID Rodada       Data  ... Estado Mandante Estado Visitante Estado Vencedor\n",
       "0   1      1 2000-07-29  ...              rj               ba              rj\n",
       "1   2      1 2000-07-29  ...              rj               pe              pe\n",
       "2   3      1 2000-07-29  ...              es               sp              es\n",
       "3   4      1 2000-07-30  ...              rj               mg               -\n",
       "4   5      1 2000-07-30  ...              rs               rj               -\n",
       "\n",
       "[5 rows x 14 columns]"
      ]
     },
     "metadata": {},
     "output_type": "display_data"
    },
    {
     "data": {
      "text/html": [
       "<div>\n",
       "<style scoped>\n",
       "    .dataframe tbody tr th:only-of-type {\n",
       "        vertical-align: middle;\n",
       "    }\n",
       "\n",
       "    .dataframe tbody tr th {\n",
       "        vertical-align: top;\n",
       "    }\n",
       "\n",
       "    .dataframe thead th {\n",
       "        text-align: right;\n",
       "    }\n",
       "</style>\n",
       "<table border=\"1\" class=\"dataframe\">\n",
       "  <thead>\n",
       "    <tr style=\"text-align: right;\">\n",
       "      <th></th>\n",
       "      <th>ID</th>\n",
       "      <th>Mandante</th>\n",
       "      <th>Chutes</th>\n",
       "      <th>Chutes a gol</th>\n",
       "      <th>Posse de bola</th>\n",
       "      <th>Passes</th>\n",
       "      <th>Precisão de passe</th>\n",
       "      <th>Faltas</th>\n",
       "      <th>Cartões amarelos</th>\n",
       "      <th>Cartões vermelhos</th>\n",
       "      <th>Impedimentos</th>\n",
       "      <th>Escanteios</th>\n",
       "    </tr>\n",
       "  </thead>\n",
       "  <tbody>\n",
       "    <tr>\n",
       "      <th>0</th>\n",
       "      <td>6041</td>\n",
       "      <td>1</td>\n",
       "      <td>13.0</td>\n",
       "      <td>0.0</td>\n",
       "      <td>45%</td>\n",
       "      <td>326.0</td>\n",
       "      <td>NaN</td>\n",
       "      <td>20.0</td>\n",
       "      <td>2.0</td>\n",
       "      <td>0.0</td>\n",
       "      <td>3.0</td>\n",
       "      <td>3.0</td>\n",
       "    </tr>\n",
       "    <tr>\n",
       "      <th>1</th>\n",
       "      <td>6041</td>\n",
       "      <td>0</td>\n",
       "      <td>16.0</td>\n",
       "      <td>0.0</td>\n",
       "      <td>55%</td>\n",
       "      <td>388.0</td>\n",
       "      <td>NaN</td>\n",
       "      <td>21.0</td>\n",
       "      <td>2.0</td>\n",
       "      <td>0.0</td>\n",
       "      <td>0.0</td>\n",
       "      <td>5.0</td>\n",
       "    </tr>\n",
       "    <tr>\n",
       "      <th>2</th>\n",
       "      <td>6040</td>\n",
       "      <td>1</td>\n",
       "      <td>17.0</td>\n",
       "      <td>0.0</td>\n",
       "      <td>50%</td>\n",
       "      <td>406.0</td>\n",
       "      <td>NaN</td>\n",
       "      <td>20.0</td>\n",
       "      <td>2.0</td>\n",
       "      <td>0.0</td>\n",
       "      <td>2.0</td>\n",
       "      <td>11.0</td>\n",
       "    </tr>\n",
       "    <tr>\n",
       "      <th>3</th>\n",
       "      <td>6040</td>\n",
       "      <td>0</td>\n",
       "      <td>10.0</td>\n",
       "      <td>0.0</td>\n",
       "      <td>50%</td>\n",
       "      <td>426.0</td>\n",
       "      <td>NaN</td>\n",
       "      <td>14.0</td>\n",
       "      <td>4.0</td>\n",
       "      <td>0.0</td>\n",
       "      <td>4.0</td>\n",
       "      <td>2.0</td>\n",
       "    </tr>\n",
       "    <tr>\n",
       "      <th>4</th>\n",
       "      <td>6042</td>\n",
       "      <td>1</td>\n",
       "      <td>26.0</td>\n",
       "      <td>11.0</td>\n",
       "      <td>74%</td>\n",
       "      <td>702.0</td>\n",
       "      <td>NaN</td>\n",
       "      <td>9.0</td>\n",
       "      <td>2.0</td>\n",
       "      <td>0.0</td>\n",
       "      <td>1.0</td>\n",
       "      <td>5.0</td>\n",
       "    </tr>\n",
       "  </tbody>\n",
       "</table>\n",
       "</div>"
      ],
      "text/plain": [
       "     ID  Mandante  Chutes  ...  Cartões vermelhos Impedimentos  Escanteios\n",
       "0  6041         1    13.0  ...                0.0          3.0         3.0\n",
       "1  6041         0    16.0  ...                0.0          0.0         5.0\n",
       "2  6040         1    17.0  ...                0.0          2.0        11.0\n",
       "3  6040         0    10.0  ...                0.0          4.0         2.0\n",
       "4  6042         1    26.0  ...                0.0          1.0         5.0\n",
       "\n",
       "[5 rows x 12 columns]"
      ]
     },
     "metadata": {},
     "output_type": "display_data"
    }
   ],
   "source": [
    "display(\n",
    "    times.head(),\n",
    "    df.head()\n",
    ")"
   ]
  },
  {
   "cell_type": "code",
   "execution_count": null,
   "metadata": {
    "colab": {
     "base_uri": "https://localhost:8080/"
    },
    "id": "Bod9KvwM1PgG",
    "outputId": "058542ee-3e36-4648-a787-ce73f1d3115c"
   },
   "outputs": [
    {
     "name": "stdout",
     "output_type": "stream",
     "text": [
      "<class 'pandas.core.frame.DataFrame'>\n",
      "RangeIndex: 4806 entries, 0 to 4805\n",
      "Data columns (total 12 columns):\n",
      " #   Column             Non-Null Count  Dtype  \n",
      "---  ------             --------------  -----  \n",
      " 0   ID                 4806 non-null   int64  \n",
      " 1   Mandante           4806 non-null   int64  \n",
      " 2   Chutes             4754 non-null   float64\n",
      " 3   Chutes a gol       4754 non-null   float64\n",
      " 4   Posse de bola      4754 non-null   object \n",
      " 5   Passes             4754 non-null   float64\n",
      " 6   Precisão de passe  2478 non-null   object \n",
      " 7   Faltas             4754 non-null   float64\n",
      " 8   Cartões amarelos   4754 non-null   float64\n",
      " 9   Cartões vermelhos  4754 non-null   float64\n",
      " 10  Impedimentos       4754 non-null   float64\n",
      " 11  Escanteios         4754 non-null   float64\n",
      "dtypes: float64(8), int64(2), object(2)\n",
      "memory usage: 450.7+ KB\n"
     ]
    }
   ],
   "source": [
    "df.info()"
   ]
  },
  {
   "cell_type": "code",
   "execution_count": null,
   "metadata": {
    "colab": {
     "base_uri": "https://localhost:8080/"
    },
    "id": "i--92tI-2fJc",
    "outputId": "819837b4-3741-4c82-d3d3-7381e894abe4"
   },
   "outputs": [
    {
     "data": {
      "text/plain": [
       "Index(['ID', 'Mandante', 'Chutes', 'Chutes a gol', 'Posse de bola', 'Passes',\n",
       "       'Precisão de passe', 'Faltas', 'Cartões amarelos', 'Cartões vermelhos',\n",
       "       'Impedimentos', 'Escanteios'],\n",
       "      dtype='object')"
      ]
     },
     "execution_count": 40,
     "metadata": {},
     "output_type": "execute_result"
    }
   ],
   "source": []
  },
  {
   "cell_type": "code",
   "execution_count": null,
   "metadata": {
    "colab": {
     "base_uri": "https://localhost:8080/"
    },
    "id": "b-Imtkq82wpe",
    "outputId": "2a173415-0d3d-4958-ff96-4f3ad3a7bb2a"
   },
   "outputs": [
    {
     "data": {
      "text/plain": [
       "82%    208\n",
       "84%    184\n",
       "85%    174\n",
       "81%    169\n",
       "86%    162\n",
       "83%    159\n",
       "80%    154\n",
       "87%    143\n",
       "78%    127\n",
       "79%    123\n",
       "77%    114\n",
       "88%    103\n",
       "75%     90\n",
       "76%     82\n",
       "72%     64\n",
       "89%     63\n",
       "73%     57\n",
       "74%     50\n",
       "71%     41\n",
       "90%     35\n",
       "70%     31\n",
       "69%     28\n",
       "68%     22\n",
       "65%     16\n",
       "91%     14\n",
       "67%     14\n",
       "66%     10\n",
       "62%      8\n",
       "64%      8\n",
       "92%      6\n",
       "61%      5\n",
       "63%      4\n",
       "60%      3\n",
       "57%      2\n",
       "59%      2\n",
       "51%      1\n",
       "56%      1\n",
       "93%      1\n",
       "Name: Precisão de passe, dtype: int64"
      ]
     },
     "execution_count": 42,
     "metadata": {},
     "output_type": "execute_result"
    }
   ],
   "source": [
    "df['Precisão de passe'].value_counts()"
   ]
  },
  {
   "cell_type": "code",
   "execution_count": null,
   "metadata": {
    "id": "VGD63ybw3mJc"
   },
   "outputs": [],
   "source": []
  }
 ],
 "metadata": {
  "colab": {
   "name": "BRASILEIRÃO",
   "provenance": []
  },
  "kernelspec": {
   "display_name": "Python 3 (ipykernel)",
   "language": "python",
   "name": "python3"
  },
  "language_info": {
   "codemirror_mode": {
    "name": "ipython",
    "version": 3
   },
   "file_extension": ".py",
   "mimetype": "text/x-python",
   "name": "python",
   "nbconvert_exporter": "python",
   "pygments_lexer": "ipython3",
   "version": "3.8.2"
  }
 },
 "nbformat": 4,
 "nbformat_minor": 4
}
